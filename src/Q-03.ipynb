{
  "nbformat": 4,
  "nbformat_minor": 0,
  "metadata": {
    "colab": {
      "provenance": [],
      "authorship_tag": "ABX9TyNPesNFyMCS8lwt+yOUs3+M",
      "include_colab_link": true
    },
    "kernelspec": {
      "name": "python3",
      "display_name": "Python 3"
    },
    "language_info": {
      "name": "python"
    }
  },
  "cells": [
    {
      "cell_type": "markdown",
      "metadata": {
        "id": "view-in-github",
        "colab_type": "text"
      },
      "source": [
        "<a href=\"https://colab.research.google.com/github/sattwik-sahu/dse316-hw01/blob/main/src/Q-03.ipynb\" target=\"_parent\"><img src=\"https://colab.research.google.com/assets/colab-badge.svg\" alt=\"Open In Colab\"/></a>"
      ]
    },
    {
      "cell_type": "markdown",
      "source": [
        "# Importing Libraries\n",
        "\n",
        "- Numpy (Numerical operations)\n",
        "- Pandas (May be needed)\n",
        "- Tensorflow (Creating and training models)\n",
        "- Scikit-Learn (Preprocessing and datasets)\n",
        "- Plotly (Data visualization)\n",
        "\n",
        "Installing `keras-tuner` for **hyperparameter tuning**"
      ],
      "metadata": {
        "id": "5dFGpbjk5R99"
      }
    },
    {
      "cell_type": "code",
      "source": [
        "!pip install -q -U keras-tuner"
      ],
      "metadata": {
        "id": "0dNsxe4q5RZs"
      },
      "execution_count": 60,
      "outputs": []
    },
    {
      "cell_type": "code",
      "execution_count": 61,
      "metadata": {
        "id": "9e3QAw6jqzjP"
      },
      "outputs": [],
      "source": [
        "import numpy as np\n",
        "import pandas as pd\n",
        "import tensorflow as tf\n",
        "from tensorflow import keras\n",
        "from sklearn.datasets import load_digits\n",
        "from sklearn.model_selection import train_test_split\n",
        "from sklearn.preprocessing import LabelBinarizer, MinMaxScaler\n",
        "from sklearn.metrics import classification_report\n",
        "from plotly import express as px\n",
        "\n",
        "import keras_tuner as kt"
      ]
    },
    {
      "cell_type": "markdown",
      "source": [
        "# Load the Data\n",
        "\n",
        "We use the MNIST digit image classification dataset here"
      ],
      "metadata": {
        "id": "8RIO_DSUvwW6"
      }
    },
    {
      "cell_type": "code",
      "source": [
        "digits = load_digits()\n",
        "print(digits[\"DESCR\"])"
      ],
      "metadata": {
        "colab": {
          "base_uri": "https://localhost:8080/"
        },
        "id": "UCeHsDCOv3z8",
        "outputId": "3e7f95c7-5d00-4e2c-d6a5-369562fb7690"
      },
      "execution_count": 9,
      "outputs": [
        {
          "output_type": "stream",
          "name": "stdout",
          "text": [
            ".. _digits_dataset:\n",
            "\n",
            "Optical recognition of handwritten digits dataset\n",
            "--------------------------------------------------\n",
            "\n",
            "**Data Set Characteristics:**\n",
            "\n",
            "    :Number of Instances: 1797\n",
            "    :Number of Attributes: 64\n",
            "    :Attribute Information: 8x8 image of integer pixels in the range 0..16.\n",
            "    :Missing Attribute Values: None\n",
            "    :Creator: E. Alpaydin (alpaydin '@' boun.edu.tr)\n",
            "    :Date: July; 1998\n",
            "\n",
            "This is a copy of the test set of the UCI ML hand-written digits datasets\n",
            "https://archive.ics.uci.edu/ml/datasets/Optical+Recognition+of+Handwritten+Digits\n",
            "\n",
            "The data set contains images of hand-written digits: 10 classes where\n",
            "each class refers to a digit.\n",
            "\n",
            "Preprocessing programs made available by NIST were used to extract\n",
            "normalized bitmaps of handwritten digits from a preprinted form. From a\n",
            "total of 43 people, 30 contributed to the training set and different 13\n",
            "to the test set. 32x32 bitmaps are divided into nonoverlapping blocks of\n",
            "4x4 and the number of on pixels are counted in each block. This generates\n",
            "an input matrix of 8x8 where each element is an integer in the range\n",
            "0..16. This reduces dimensionality and gives invariance to small\n",
            "distortions.\n",
            "\n",
            "For info on NIST preprocessing routines, see M. D. Garris, J. L. Blue, G.\n",
            "T. Candela, D. L. Dimmick, J. Geist, P. J. Grother, S. A. Janet, and C.\n",
            "L. Wilson, NIST Form-Based Handprint Recognition System, NISTIR 5469,\n",
            "1994.\n",
            "\n",
            ".. topic:: References\n",
            "\n",
            "  - C. Kaynak (1995) Methods of Combining Multiple Classifiers and Their\n",
            "    Applications to Handwritten Digit Recognition, MSc Thesis, Institute of\n",
            "    Graduate Studies in Science and Engineering, Bogazici University.\n",
            "  - E. Alpaydin, C. Kaynak (1998) Cascading Classifiers, Kybernetika.\n",
            "  - Ken Tang and Ponnuthurai N. Suganthan and Xi Yao and A. Kai Qin.\n",
            "    Linear dimensionalityreduction using relevance weighted LDA. School of\n",
            "    Electrical and Electronic Engineering Nanyang Technological University.\n",
            "    2005.\n",
            "  - Claudio Gentile. A New Approximate Maximal Margin Classification\n",
            "    Algorithm. NIPS. 2000.\n",
            "\n"
          ]
        }
      ]
    },
    {
      "cell_type": "markdown",
      "source": [
        "## Convert data to images\n",
        "\n",
        "- Convert the tabular data into individual images to visualize them better\n",
        "- As described above, the images are `8 x 8` pixels"
      ],
      "metadata": {
        "id": "GYjxdJTRwb9W"
      }
    },
    {
      "cell_type": "code",
      "source": [
        "X = digits.data\n",
        "y = digits.target\n",
        "X_images = X.reshape(-1, 8, 8)\n",
        "\n",
        "X.shape, X_images.shape, y.shape"
      ],
      "metadata": {
        "colab": {
          "base_uri": "https://localhost:8080/"
        },
        "id": "NHXS4yQWwapW",
        "outputId": "20071192-a7d6-4ad2-894c-b77b6fdb67fe"
      },
      "execution_count": 50,
      "outputs": [
        {
          "output_type": "execute_result",
          "data": {
            "text/plain": [
              "((1797, 64), (1797, 8, 8), (1797,))"
            ]
          },
          "metadata": {},
          "execution_count": 50
        }
      ]
    },
    {
      "cell_type": "markdown",
      "source": [
        "### Show Sample images\n",
        "\n",
        "Let's print sample images along with the corresponding ground truth"
      ],
      "metadata": {
        "id": "OGI8F00E1la5"
      }
    },
    {
      "cell_type": "code",
      "source": [
        "def show_sample_images(X: np.ndarray, y: np.ndarray, n_samples: int = 5) -> None:\n",
        "  sample_inx = np.random.randint(0, X.shape[0], n_samples)\n",
        "  fig = px.imshow(X[sample_inx, :, :], facet_col=0)\n",
        "  for i, j in enumerate(y[sample_inx]):\n",
        "    fig.layout.annotations[i]['text'] = f\"digit = {j}\"\n",
        "\n",
        "  fig.show()\n",
        "\n",
        "\n",
        "show_sample_images(X=X_images, y=y, n_samples=6)"
      ],
      "metadata": {
        "colab": {
          "base_uri": "https://localhost:8080/",
          "height": 542
        },
        "id": "UvDtTi72xd_u",
        "outputId": "745bd701-7ff1-4b47-c2cb-7ed7d6678839"
      },
      "execution_count": 55,
      "outputs": [
        {
          "output_type": "display_data",
          "data": {
            "text/html": [
              "<html>\n",
              "<head><meta charset=\"utf-8\" /></head>\n",
              "<body>\n",
              "    <div>            <script src=\"https://cdnjs.cloudflare.com/ajax/libs/mathjax/2.7.5/MathJax.js?config=TeX-AMS-MML_SVG\"></script><script type=\"text/javascript\">if (window.MathJax && window.MathJax.Hub && window.MathJax.Hub.Config) {window.MathJax.Hub.Config({SVG: {font: \"STIX-Web\"}});}</script>                <script type=\"text/javascript\">window.PlotlyConfig = {MathJaxConfig: 'local'};</script>\n",
              "        <script charset=\"utf-8\" src=\"https://cdn.plot.ly/plotly-2.24.1.min.js\"></script>                <div id=\"af9ec6a5-db9e-4707-a9ae-d5d458985e4a\" class=\"plotly-graph-div\" style=\"height:525px; width:100%;\"></div>            <script type=\"text/javascript\">                                    window.PLOTLYENV=window.PLOTLYENV || {};                                    if (document.getElementById(\"af9ec6a5-db9e-4707-a9ae-d5d458985e4a\")) {                    Plotly.newPlot(                        \"af9ec6a5-db9e-4707-a9ae-d5d458985e4a\",                        [{\"coloraxis\":\"coloraxis\",\"name\":\"0\",\"z\":[[0.0,0.0,0.0,14.0,7.0,0.0,0.0,0.0],[0.0,1.0,9.0,16.0,16.0,3.0,0.0,0.0],[0.0,4.0,16.0,8.0,11.0,11.0,0.0,0.0],[0.0,3.0,16.0,7.0,4.0,16.0,4.0,0.0],[0.0,8.0,16.0,4.0,0.0,16.0,8.0,0.0],[0.0,5.0,16.0,10.0,0.0,13.0,11.0,0.0],[0.0,0.0,13.0,16.0,16.0,16.0,9.0,0.0],[0.0,0.0,2.0,10.0,13.0,6.0,0.0,0.0]],\"type\":\"heatmap\",\"xaxis\":\"x\",\"yaxis\":\"y\",\"hovertemplate\":\"x: %{x}\\u003cbr\\u003ey: %{y}\\u003cbr\\u003ecolor: %{z}\\u003cextra\\u003e\\u003c\\u002fextra\\u003e\"},{\"coloraxis\":\"coloraxis\",\"name\":\"1\",\"z\":[[0.0,0.0,2.0,13.0,10.0,3.0,0.0,0.0],[0.0,0.0,10.0,15.0,12.0,13.0,1.0,0.0],[0.0,0.0,16.0,4.0,0.0,6.0,4.0,0.0],[0.0,2.0,16.0,3.0,0.0,1.0,7.0,0.0],[0.0,5.0,13.0,5.0,0.0,2.0,8.0,0.0],[0.0,4.0,12.0,0.0,0.0,3.0,8.0,0.0],[0.0,0.0,13.0,5.0,6.0,13.0,5.0,0.0],[0.0,0.0,5.0,14.0,13.0,8.0,1.0,0.0]],\"type\":\"heatmap\",\"xaxis\":\"x2\",\"yaxis\":\"y2\",\"hovertemplate\":\"x: %{x}\\u003cbr\\u003ey: %{y}\\u003cbr\\u003ecolor: %{z}\\u003cextra\\u003e\\u003c\\u002fextra\\u003e\"},{\"coloraxis\":\"coloraxis\",\"name\":\"2\",\"z\":[[0.0,6.0,16.0,16.0,15.0,7.0,0.0,0.0],[0.0,2.0,11.0,12.0,16.0,16.0,5.0,0.0],[0.0,0.0,0.0,0.0,14.0,15.0,2.0,0.0],[0.0,0.0,0.0,1.0,16.0,11.0,0.0,0.0],[0.0,0.0,0.0,0.0,14.0,14.0,0.0,0.0],[0.0,0.0,0.0,0.0,5.0,16.0,9.0,0.0],[0.0,0.0,3.0,7.0,12.0,16.0,7.0,0.0],[0.0,3.0,16.0,16.0,15.0,11.0,1.0,0.0]],\"type\":\"heatmap\",\"xaxis\":\"x3\",\"yaxis\":\"y3\",\"hovertemplate\":\"x: %{x}\\u003cbr\\u003ey: %{y}\\u003cbr\\u003ecolor: %{z}\\u003cextra\\u003e\\u003c\\u002fextra\\u003e\"},{\"coloraxis\":\"coloraxis\",\"name\":\"3\",\"z\":[[0.0,0.0,0.0,8.0,15.0,1.0,0.0,0.0],[0.0,0.0,0.0,12.0,14.0,0.0,0.0,0.0],[0.0,0.0,3.0,16.0,7.0,0.0,0.0,0.0],[0.0,0.0,6.0,16.0,2.0,0.0,0.0,0.0],[0.0,0.0,7.0,16.0,16.0,13.0,5.0,0.0],[0.0,0.0,15.0,16.0,9.0,9.0,14.0,0.0],[0.0,0.0,3.0,14.0,9.0,2.0,16.0,2.0],[0.0,0.0,0.0,7.0,15.0,16.0,11.0,0.0]],\"type\":\"heatmap\",\"xaxis\":\"x4\",\"yaxis\":\"y4\",\"hovertemplate\":\"x: %{x}\\u003cbr\\u003ey: %{y}\\u003cbr\\u003ecolor: %{z}\\u003cextra\\u003e\\u003c\\u002fextra\\u003e\"},{\"coloraxis\":\"coloraxis\",\"name\":\"4\",\"z\":[[0.0,0.0,2.0,15.0,5.0,0.0,0.0,0.0],[0.0,0.0,9.0,15.0,0.0,1.0,0.0,0.0],[0.0,0.0,14.0,9.0,9.0,9.0,0.0,0.0],[0.0,8.0,16.0,4.0,16.0,13.0,12.0,0.0],[0.0,13.0,16.0,16.0,16.0,15.0,7.0,0.0],[0.0,3.0,8.0,13.0,12.0,2.0,0.0,0.0],[0.0,0.0,0.0,14.0,10.0,0.0,0.0,0.0],[0.0,0.0,3.0,16.0,7.0,0.0,0.0,0.0]],\"type\":\"heatmap\",\"xaxis\":\"x5\",\"yaxis\":\"y5\",\"hovertemplate\":\"x: %{x}\\u003cbr\\u003ey: %{y}\\u003cbr\\u003ecolor: %{z}\\u003cextra\\u003e\\u003c\\u002fextra\\u003e\"},{\"coloraxis\":\"coloraxis\",\"name\":\"5\",\"z\":[[0.0,0.0,1.0,14.0,7.0,0.0,0.0,0.0],[0.0,0.0,6.0,16.0,16.0,1.0,0.0,0.0],[0.0,0.0,7.0,16.0,15.0,0.0,0.0,0.0],[0.0,0.0,6.0,16.0,15.0,0.0,0.0,0.0],[0.0,0.0,6.0,16.0,15.0,0.0,0.0,0.0],[0.0,0.0,4.0,16.0,16.0,1.0,0.0,0.0],[0.0,0.0,4.0,16.0,16.0,6.0,0.0,0.0],[0.0,0.0,1.0,15.0,16.0,8.0,0.0,0.0]],\"type\":\"heatmap\",\"xaxis\":\"x6\",\"yaxis\":\"y6\",\"hovertemplate\":\"x: %{x}\\u003cbr\\u003ey: %{y}\\u003cbr\\u003ecolor: %{z}\\u003cextra\\u003e\\u003c\\u002fextra\\u003e\"}],                        {\"template\":{\"data\":{\"histogram2dcontour\":[{\"type\":\"histogram2dcontour\",\"colorbar\":{\"outlinewidth\":0,\"ticks\":\"\"},\"colorscale\":[[0.0,\"#0d0887\"],[0.1111111111111111,\"#46039f\"],[0.2222222222222222,\"#7201a8\"],[0.3333333333333333,\"#9c179e\"],[0.4444444444444444,\"#bd3786\"],[0.5555555555555556,\"#d8576b\"],[0.6666666666666666,\"#ed7953\"],[0.7777777777777778,\"#fb9f3a\"],[0.8888888888888888,\"#fdca26\"],[1.0,\"#f0f921\"]]}],\"choropleth\":[{\"type\":\"choropleth\",\"colorbar\":{\"outlinewidth\":0,\"ticks\":\"\"}}],\"histogram2d\":[{\"type\":\"histogram2d\",\"colorbar\":{\"outlinewidth\":0,\"ticks\":\"\"},\"colorscale\":[[0.0,\"#0d0887\"],[0.1111111111111111,\"#46039f\"],[0.2222222222222222,\"#7201a8\"],[0.3333333333333333,\"#9c179e\"],[0.4444444444444444,\"#bd3786\"],[0.5555555555555556,\"#d8576b\"],[0.6666666666666666,\"#ed7953\"],[0.7777777777777778,\"#fb9f3a\"],[0.8888888888888888,\"#fdca26\"],[1.0,\"#f0f921\"]]}],\"heatmap\":[{\"type\":\"heatmap\",\"colorbar\":{\"outlinewidth\":0,\"ticks\":\"\"},\"colorscale\":[[0.0,\"#0d0887\"],[0.1111111111111111,\"#46039f\"],[0.2222222222222222,\"#7201a8\"],[0.3333333333333333,\"#9c179e\"],[0.4444444444444444,\"#bd3786\"],[0.5555555555555556,\"#d8576b\"],[0.6666666666666666,\"#ed7953\"],[0.7777777777777778,\"#fb9f3a\"],[0.8888888888888888,\"#fdca26\"],[1.0,\"#f0f921\"]]}],\"heatmapgl\":[{\"type\":\"heatmapgl\",\"colorbar\":{\"outlinewidth\":0,\"ticks\":\"\"},\"colorscale\":[[0.0,\"#0d0887\"],[0.1111111111111111,\"#46039f\"],[0.2222222222222222,\"#7201a8\"],[0.3333333333333333,\"#9c179e\"],[0.4444444444444444,\"#bd3786\"],[0.5555555555555556,\"#d8576b\"],[0.6666666666666666,\"#ed7953\"],[0.7777777777777778,\"#fb9f3a\"],[0.8888888888888888,\"#fdca26\"],[1.0,\"#f0f921\"]]}],\"contourcarpet\":[{\"type\":\"contourcarpet\",\"colorbar\":{\"outlinewidth\":0,\"ticks\":\"\"}}],\"contour\":[{\"type\":\"contour\",\"colorbar\":{\"outlinewidth\":0,\"ticks\":\"\"},\"colorscale\":[[0.0,\"#0d0887\"],[0.1111111111111111,\"#46039f\"],[0.2222222222222222,\"#7201a8\"],[0.3333333333333333,\"#9c179e\"],[0.4444444444444444,\"#bd3786\"],[0.5555555555555556,\"#d8576b\"],[0.6666666666666666,\"#ed7953\"],[0.7777777777777778,\"#fb9f3a\"],[0.8888888888888888,\"#fdca26\"],[1.0,\"#f0f921\"]]}],\"surface\":[{\"type\":\"surface\",\"colorbar\":{\"outlinewidth\":0,\"ticks\":\"\"},\"colorscale\":[[0.0,\"#0d0887\"],[0.1111111111111111,\"#46039f\"],[0.2222222222222222,\"#7201a8\"],[0.3333333333333333,\"#9c179e\"],[0.4444444444444444,\"#bd3786\"],[0.5555555555555556,\"#d8576b\"],[0.6666666666666666,\"#ed7953\"],[0.7777777777777778,\"#fb9f3a\"],[0.8888888888888888,\"#fdca26\"],[1.0,\"#f0f921\"]]}],\"mesh3d\":[{\"type\":\"mesh3d\",\"colorbar\":{\"outlinewidth\":0,\"ticks\":\"\"}}],\"scatter\":[{\"fillpattern\":{\"fillmode\":\"overlay\",\"size\":10,\"solidity\":0.2},\"type\":\"scatter\"}],\"parcoords\":[{\"type\":\"parcoords\",\"line\":{\"colorbar\":{\"outlinewidth\":0,\"ticks\":\"\"}}}],\"scatterpolargl\":[{\"type\":\"scatterpolargl\",\"marker\":{\"colorbar\":{\"outlinewidth\":0,\"ticks\":\"\"}}}],\"bar\":[{\"error_x\":{\"color\":\"#2a3f5f\"},\"error_y\":{\"color\":\"#2a3f5f\"},\"marker\":{\"line\":{\"color\":\"#E5ECF6\",\"width\":0.5},\"pattern\":{\"fillmode\":\"overlay\",\"size\":10,\"solidity\":0.2}},\"type\":\"bar\"}],\"scattergeo\":[{\"type\":\"scattergeo\",\"marker\":{\"colorbar\":{\"outlinewidth\":0,\"ticks\":\"\"}}}],\"scatterpolar\":[{\"type\":\"scatterpolar\",\"marker\":{\"colorbar\":{\"outlinewidth\":0,\"ticks\":\"\"}}}],\"histogram\":[{\"marker\":{\"pattern\":{\"fillmode\":\"overlay\",\"size\":10,\"solidity\":0.2}},\"type\":\"histogram\"}],\"scattergl\":[{\"type\":\"scattergl\",\"marker\":{\"colorbar\":{\"outlinewidth\":0,\"ticks\":\"\"}}}],\"scatter3d\":[{\"type\":\"scatter3d\",\"line\":{\"colorbar\":{\"outlinewidth\":0,\"ticks\":\"\"}},\"marker\":{\"colorbar\":{\"outlinewidth\":0,\"ticks\":\"\"}}}],\"scattermapbox\":[{\"type\":\"scattermapbox\",\"marker\":{\"colorbar\":{\"outlinewidth\":0,\"ticks\":\"\"}}}],\"scatterternary\":[{\"type\":\"scatterternary\",\"marker\":{\"colorbar\":{\"outlinewidth\":0,\"ticks\":\"\"}}}],\"scattercarpet\":[{\"type\":\"scattercarpet\",\"marker\":{\"colorbar\":{\"outlinewidth\":0,\"ticks\":\"\"}}}],\"carpet\":[{\"aaxis\":{\"endlinecolor\":\"#2a3f5f\",\"gridcolor\":\"white\",\"linecolor\":\"white\",\"minorgridcolor\":\"white\",\"startlinecolor\":\"#2a3f5f\"},\"baxis\":{\"endlinecolor\":\"#2a3f5f\",\"gridcolor\":\"white\",\"linecolor\":\"white\",\"minorgridcolor\":\"white\",\"startlinecolor\":\"#2a3f5f\"},\"type\":\"carpet\"}],\"table\":[{\"cells\":{\"fill\":{\"color\":\"#EBF0F8\"},\"line\":{\"color\":\"white\"}},\"header\":{\"fill\":{\"color\":\"#C8D4E3\"},\"line\":{\"color\":\"white\"}},\"type\":\"table\"}],\"barpolar\":[{\"marker\":{\"line\":{\"color\":\"#E5ECF6\",\"width\":0.5},\"pattern\":{\"fillmode\":\"overlay\",\"size\":10,\"solidity\":0.2}},\"type\":\"barpolar\"}],\"pie\":[{\"automargin\":true,\"type\":\"pie\"}]},\"layout\":{\"autotypenumbers\":\"strict\",\"colorway\":[\"#636efa\",\"#EF553B\",\"#00cc96\",\"#ab63fa\",\"#FFA15A\",\"#19d3f3\",\"#FF6692\",\"#B6E880\",\"#FF97FF\",\"#FECB52\"],\"font\":{\"color\":\"#2a3f5f\"},\"hovermode\":\"closest\",\"hoverlabel\":{\"align\":\"left\"},\"paper_bgcolor\":\"white\",\"plot_bgcolor\":\"#E5ECF6\",\"polar\":{\"bgcolor\":\"#E5ECF6\",\"angularaxis\":{\"gridcolor\":\"white\",\"linecolor\":\"white\",\"ticks\":\"\"},\"radialaxis\":{\"gridcolor\":\"white\",\"linecolor\":\"white\",\"ticks\":\"\"}},\"ternary\":{\"bgcolor\":\"#E5ECF6\",\"aaxis\":{\"gridcolor\":\"white\",\"linecolor\":\"white\",\"ticks\":\"\"},\"baxis\":{\"gridcolor\":\"white\",\"linecolor\":\"white\",\"ticks\":\"\"},\"caxis\":{\"gridcolor\":\"white\",\"linecolor\":\"white\",\"ticks\":\"\"}},\"coloraxis\":{\"colorbar\":{\"outlinewidth\":0,\"ticks\":\"\"}},\"colorscale\":{\"sequential\":[[0.0,\"#0d0887\"],[0.1111111111111111,\"#46039f\"],[0.2222222222222222,\"#7201a8\"],[0.3333333333333333,\"#9c179e\"],[0.4444444444444444,\"#bd3786\"],[0.5555555555555556,\"#d8576b\"],[0.6666666666666666,\"#ed7953\"],[0.7777777777777778,\"#fb9f3a\"],[0.8888888888888888,\"#fdca26\"],[1.0,\"#f0f921\"]],\"sequentialminus\":[[0.0,\"#0d0887\"],[0.1111111111111111,\"#46039f\"],[0.2222222222222222,\"#7201a8\"],[0.3333333333333333,\"#9c179e\"],[0.4444444444444444,\"#bd3786\"],[0.5555555555555556,\"#d8576b\"],[0.6666666666666666,\"#ed7953\"],[0.7777777777777778,\"#fb9f3a\"],[0.8888888888888888,\"#fdca26\"],[1.0,\"#f0f921\"]],\"diverging\":[[0,\"#8e0152\"],[0.1,\"#c51b7d\"],[0.2,\"#de77ae\"],[0.3,\"#f1b6da\"],[0.4,\"#fde0ef\"],[0.5,\"#f7f7f7\"],[0.6,\"#e6f5d0\"],[0.7,\"#b8e186\"],[0.8,\"#7fbc41\"],[0.9,\"#4d9221\"],[1,\"#276419\"]]},\"xaxis\":{\"gridcolor\":\"white\",\"linecolor\":\"white\",\"ticks\":\"\",\"title\":{\"standoff\":15},\"zerolinecolor\":\"white\",\"automargin\":true,\"zerolinewidth\":2},\"yaxis\":{\"gridcolor\":\"white\",\"linecolor\":\"white\",\"ticks\":\"\",\"title\":{\"standoff\":15},\"zerolinecolor\":\"white\",\"automargin\":true,\"zerolinewidth\":2},\"scene\":{\"xaxis\":{\"backgroundcolor\":\"#E5ECF6\",\"gridcolor\":\"white\",\"linecolor\":\"white\",\"showbackground\":true,\"ticks\":\"\",\"zerolinecolor\":\"white\",\"gridwidth\":2},\"yaxis\":{\"backgroundcolor\":\"#E5ECF6\",\"gridcolor\":\"white\",\"linecolor\":\"white\",\"showbackground\":true,\"ticks\":\"\",\"zerolinecolor\":\"white\",\"gridwidth\":2},\"zaxis\":{\"backgroundcolor\":\"#E5ECF6\",\"gridcolor\":\"white\",\"linecolor\":\"white\",\"showbackground\":true,\"ticks\":\"\",\"zerolinecolor\":\"white\",\"gridwidth\":2}},\"shapedefaults\":{\"line\":{\"color\":\"#2a3f5f\"}},\"annotationdefaults\":{\"arrowcolor\":\"#2a3f5f\",\"arrowhead\":0,\"arrowwidth\":1},\"geo\":{\"bgcolor\":\"white\",\"landcolor\":\"#E5ECF6\",\"subunitcolor\":\"white\",\"showland\":true,\"showlakes\":true,\"lakecolor\":\"white\"},\"title\":{\"x\":0.05},\"mapbox\":{\"style\":\"light\"}}},\"xaxis\":{\"anchor\":\"y\",\"domain\":[0.0,0.15],\"scaleanchor\":\"y\",\"constrain\":\"domain\"},\"yaxis\":{\"anchor\":\"x\",\"domain\":[0.0,1.0],\"autorange\":\"reversed\",\"constrain\":\"domain\"},\"xaxis2\":{\"anchor\":\"y2\",\"domain\":[0.16999999999999998,0.31999999999999995],\"matches\":\"x\"},\"yaxis2\":{\"anchor\":\"x2\",\"domain\":[0.0,1.0],\"matches\":\"y\",\"showticklabels\":false},\"xaxis3\":{\"anchor\":\"y3\",\"domain\":[0.33999999999999997,0.49],\"matches\":\"x\"},\"yaxis3\":{\"anchor\":\"x3\",\"domain\":[0.0,1.0],\"matches\":\"y\",\"showticklabels\":false},\"xaxis4\":{\"anchor\":\"y4\",\"domain\":[0.51,0.66],\"matches\":\"x\"},\"yaxis4\":{\"anchor\":\"x4\",\"domain\":[0.0,1.0],\"matches\":\"y\",\"showticklabels\":false},\"xaxis5\":{\"anchor\":\"y5\",\"domain\":[0.6799999999999999,0.83],\"matches\":\"x\"},\"yaxis5\":{\"anchor\":\"x5\",\"domain\":[0.0,1.0],\"matches\":\"y\",\"showticklabels\":false},\"xaxis6\":{\"anchor\":\"y6\",\"domain\":[0.85,1.0],\"matches\":\"x\"},\"yaxis6\":{\"anchor\":\"x6\",\"domain\":[0.0,1.0],\"matches\":\"y\",\"showticklabels\":false},\"annotations\":[{\"font\":{},\"showarrow\":false,\"text\":\"digit = 0\",\"x\":0.075,\"xanchor\":\"center\",\"xref\":\"paper\",\"y\":1.0,\"yanchor\":\"bottom\",\"yref\":\"paper\"},{\"font\":{},\"showarrow\":false,\"text\":\"digit = 0\",\"x\":0.24499999999999997,\"xanchor\":\"center\",\"xref\":\"paper\",\"y\":1.0,\"yanchor\":\"bottom\",\"yref\":\"paper\"},{\"font\":{},\"showarrow\":false,\"text\":\"digit = 3\",\"x\":0.415,\"xanchor\":\"center\",\"xref\":\"paper\",\"y\":1.0,\"yanchor\":\"bottom\",\"yref\":\"paper\"},{\"font\":{},\"showarrow\":false,\"text\":\"digit = 6\",\"x\":0.585,\"xanchor\":\"center\",\"xref\":\"paper\",\"y\":1.0,\"yanchor\":\"bottom\",\"yref\":\"paper\"},{\"font\":{},\"showarrow\":false,\"text\":\"digit = 4\",\"x\":0.7549999999999999,\"xanchor\":\"center\",\"xref\":\"paper\",\"y\":1.0,\"yanchor\":\"bottom\",\"yref\":\"paper\"},{\"font\":{},\"showarrow\":false,\"text\":\"digit = 1\",\"x\":0.925,\"xanchor\":\"center\",\"xref\":\"paper\",\"y\":1.0,\"yanchor\":\"bottom\",\"yref\":\"paper\"}],\"coloraxis\":{\"colorscale\":[[0.0,\"#0d0887\"],[0.1111111111111111,\"#46039f\"],[0.2222222222222222,\"#7201a8\"],[0.3333333333333333,\"#9c179e\"],[0.4444444444444444,\"#bd3786\"],[0.5555555555555556,\"#d8576b\"],[0.6666666666666666,\"#ed7953\"],[0.7777777777777778,\"#fb9f3a\"],[0.8888888888888888,\"#fdca26\"],[1.0,\"#f0f921\"]]},\"margin\":{\"t\":60}},                        {\"responsive\": true}                    ).then(function(){\n",
              "                            \n",
              "var gd = document.getElementById('af9ec6a5-db9e-4707-a9ae-d5d458985e4a');\n",
              "var x = new MutationObserver(function (mutations, observer) {{\n",
              "        var display = window.getComputedStyle(gd).display;\n",
              "        if (!display || display === 'none') {{\n",
              "            console.log([gd, 'removed!']);\n",
              "            Plotly.purge(gd);\n",
              "            observer.disconnect();\n",
              "        }}\n",
              "}});\n",
              "\n",
              "// Listen for the removal of the full notebook cells\n",
              "var notebookContainer = gd.closest('#notebook-container');\n",
              "if (notebookContainer) {{\n",
              "    x.observe(notebookContainer, {childList: true});\n",
              "}}\n",
              "\n",
              "// Listen for the clearing of the current output cell\n",
              "var outputEl = gd.closest('.output');\n",
              "if (outputEl) {{\n",
              "    x.observe(outputEl, {childList: true});\n",
              "}}\n",
              "\n",
              "                        })                };                            </script>        </div>\n",
              "</body>\n",
              "</html>"
            ]
          },
          "metadata": {}
        }
      ]
    },
    {
      "cell_type": "markdown",
      "source": [
        "## Preprocessing\n",
        "\n",
        "- The image data needs to be preprocessed, to make it suitable to pass into a `Dense` layer.\n",
        "- The preprocessing required for this type of operation requires **flattening the image into a 1-D array**\n",
        "- Although we have `X` suitable to pass into `Dense` layers directly, we will use `X_images` to show how the preprocessing takes place\n",
        "- In the above description of the image data, it is said every element is a number from `0..16`. We scale the data to `0..1` range by dividing by `16`. We could also apply `MinMaxScaler` from `sklearn` for this, but since we have prior data, we proceed with the division method.\n",
        "\n",
        "> Tensorflow's `Flatten` layer will be used for flattening the images."
      ],
      "metadata": {
        "id": "uSH2Xu_c2sF3"
      }
    },
    {
      "cell_type": "code",
      "source": [
        "X_ = X_images\n",
        "\n",
        "# Scaling\n",
        "X_ = X_images / 16.0\n",
        "\n",
        "# Flattening is done in the model itself by adding a `Flatten` layer"
      ],
      "metadata": {
        "id": "5wF7dRHn3OiK"
      },
      "execution_count": 56,
      "outputs": []
    },
    {
      "cell_type": "markdown",
      "source": [
        "### Show Scaled Images\n",
        "\n",
        "There won't be any major difference apart from the scale of the numbers, which is exactly what we intended. We are not losing any data about the images"
      ],
      "metadata": {
        "id": "kH2rBFhw4whl"
      }
    },
    {
      "cell_type": "code",
      "source": [
        "show_sample_images(X_, y)"
      ],
      "metadata": {
        "colab": {
          "base_uri": "https://localhost:8080/",
          "height": 542
        },
        "id": "GNAygWuD4v4p",
        "outputId": "99c90615-3fff-4589-e8c1-9ac6b3d933e8"
      },
      "execution_count": 57,
      "outputs": [
        {
          "output_type": "display_data",
          "data": {
            "text/html": [
              "<html>\n",
              "<head><meta charset=\"utf-8\" /></head>\n",
              "<body>\n",
              "    <div>            <script src=\"https://cdnjs.cloudflare.com/ajax/libs/mathjax/2.7.5/MathJax.js?config=TeX-AMS-MML_SVG\"></script><script type=\"text/javascript\">if (window.MathJax && window.MathJax.Hub && window.MathJax.Hub.Config) {window.MathJax.Hub.Config({SVG: {font: \"STIX-Web\"}});}</script>                <script type=\"text/javascript\">window.PlotlyConfig = {MathJaxConfig: 'local'};</script>\n",
              "        <script charset=\"utf-8\" src=\"https://cdn.plot.ly/plotly-2.24.1.min.js\"></script>                <div id=\"5bf3a1b7-fb08-4973-aa2c-a6c49eb27a3c\" class=\"plotly-graph-div\" style=\"height:525px; width:100%;\"></div>            <script type=\"text/javascript\">                                    window.PLOTLYENV=window.PLOTLYENV || {};                                    if (document.getElementById(\"5bf3a1b7-fb08-4973-aa2c-a6c49eb27a3c\")) {                    Plotly.newPlot(                        \"5bf3a1b7-fb08-4973-aa2c-a6c49eb27a3c\",                        [{\"coloraxis\":\"coloraxis\",\"name\":\"0\",\"z\":[[0.0,0.0,0.375,0.5,0.9375,0.8125,0.0625,0.0],[0.0,0.0625,1.0,1.0,0.6875,0.9375,0.25,0.0],[0.0,0.0,0.9375,0.5625,0.5,0.9375,0.125,0.0],[0.0,0.0,0.625,1.0,1.0,0.625,0.0,0.0],[0.0,0.0,0.8125,1.0,0.625,0.0,0.0,0.0],[0.0,0.25,0.9375,0.625,0.75,0.0,0.0,0.0],[0.0,0.125,0.9375,0.3125,0.9375,0.0,0.0,0.0],[0.0,0.0,0.5,1.0,0.625,0.0,0.0,0.0]],\"type\":\"heatmap\",\"xaxis\":\"x\",\"yaxis\":\"y\",\"hovertemplate\":\"x: %{x}\\u003cbr\\u003ey: %{y}\\u003cbr\\u003ecolor: %{z}\\u003cextra\\u003e\\u003c\\u002fextra\\u003e\"},{\"coloraxis\":\"coloraxis\",\"name\":\"1\",\"z\":[[0.0,0.0,0.5,0.875,0.9375,0.375,0.0,0.0],[0.0,0.25,1.0,0.75,0.875,0.6875,0.0,0.0],[0.0,0.25,0.5,0.0625,0.875,0.4375,0.0,0.0],[0.0,0.0,0.0,0.875,1.0,0.3125,0.0,0.0],[0.0,0.0,0.0,0.6875,1.0,1.0,0.125,0.0],[0.0,0.0,0.0,0.0,0.0625,0.9375,0.4375,0.0],[0.0,0.0,0.25,0.6875,0.5,0.875,0.4375,0.0],[0.0,0.0,0.6875,1.0,1.0,0.625,0.0,0.0]],\"type\":\"heatmap\",\"xaxis\":\"x2\",\"yaxis\":\"y2\",\"hovertemplate\":\"x: %{x}\\u003cbr\\u003ey: %{y}\\u003cbr\\u003ecolor: %{z}\\u003cextra\\u003e\\u003c\\u002fextra\\u003e\"},{\"coloraxis\":\"coloraxis\",\"name\":\"2\",\"z\":[[0.0,0.125,0.875,1.0,1.0,0.4375,0.0,0.0],[0.0,0.375,0.9375,0.3125,0.375,0.8125,0.0,0.0],[0.0,0.25,0.9375,0.0,0.5625,1.0,0.375,0.0],[0.0,0.125,0.8125,1.0,1.0,0.9375,0.5625,0.0],[0.0,0.0,0.0625,0.25,0.125,0.9375,0.5,0.0],[0.0,0.0,0.0,0.0,0.0625,1.0,0.375,0.0],[0.0,0.0,0.0,0.0625,0.75,0.9375,0.125,0.0],[0.0,0.0625,0.875,1.0,1.0,0.375,0.0,0.0]],\"type\":\"heatmap\",\"xaxis\":\"x3\",\"yaxis\":\"y3\",\"hovertemplate\":\"x: %{x}\\u003cbr\\u003ey: %{y}\\u003cbr\\u003ecolor: %{z}\\u003cextra\\u003e\\u003c\\u002fextra\\u003e\"},{\"coloraxis\":\"coloraxis\",\"name\":\"3\",\"z\":[[0.0,0.0,0.3125,1.0,0.75,0.125,0.0,0.0],[0.0,0.0,0.8125,0.875,0.9375,0.6875,0.0,0.0],[0.0,0.375,0.9375,0.0625,0.125,1.0,0.25,0.0],[0.0,0.375,0.875,0.0,0.0,0.5625,0.5,0.0],[0.0,0.5,0.625,0.0,0.0,0.8125,0.5,0.0],[0.0,0.25,0.8125,0.0,0.0625,0.875,0.5,0.0],[0.0,0.0,0.875,0.875,0.9375,0.9375,0.1875,0.0],[0.0,0.0,0.3125,0.75,0.8125,0.5,0.0,0.0]],\"type\":\"heatmap\",\"xaxis\":\"x4\",\"yaxis\":\"y4\",\"hovertemplate\":\"x: %{x}\\u003cbr\\u003ey: %{y}\\u003cbr\\u003ecolor: %{z}\\u003cextra\\u003e\\u003c\\u002fextra\\u003e\"},{\"coloraxis\":\"coloraxis\",\"name\":\"4\",\"z\":[[0.0,0.0,0.1875,0.625,0.75,0.75,0.125,0.0],[0.0,0.0625,0.8125,0.75,0.375,0.8125,0.5,0.0],[0.0,0.5,1.0,0.5,0.5,0.875,0.0625,0.0],[0.0,0.3125,0.875,1.0,1.0,0.1875,0.0,0.0],[0.0,0.0,0.75,1.0,0.9375,0.125,0.0,0.0],[0.0,0.1875,1.0,0.125,0.9375,0.625,0.0,0.0],[0.0,0.25,1.0,0.5,0.75,0.75,0.0,0.0],[0.0,0.0,0.5625,1.0,0.9375,0.1875,0.0,0.0]],\"type\":\"heatmap\",\"xaxis\":\"x5\",\"yaxis\":\"y5\",\"hovertemplate\":\"x: %{x}\\u003cbr\\u003ey: %{y}\\u003cbr\\u003ecolor: %{z}\\u003cextra\\u003e\\u003c\\u002fextra\\u003e\"}],                        {\"template\":{\"data\":{\"histogram2dcontour\":[{\"type\":\"histogram2dcontour\",\"colorbar\":{\"outlinewidth\":0,\"ticks\":\"\"},\"colorscale\":[[0.0,\"#0d0887\"],[0.1111111111111111,\"#46039f\"],[0.2222222222222222,\"#7201a8\"],[0.3333333333333333,\"#9c179e\"],[0.4444444444444444,\"#bd3786\"],[0.5555555555555556,\"#d8576b\"],[0.6666666666666666,\"#ed7953\"],[0.7777777777777778,\"#fb9f3a\"],[0.8888888888888888,\"#fdca26\"],[1.0,\"#f0f921\"]]}],\"choropleth\":[{\"type\":\"choropleth\",\"colorbar\":{\"outlinewidth\":0,\"ticks\":\"\"}}],\"histogram2d\":[{\"type\":\"histogram2d\",\"colorbar\":{\"outlinewidth\":0,\"ticks\":\"\"},\"colorscale\":[[0.0,\"#0d0887\"],[0.1111111111111111,\"#46039f\"],[0.2222222222222222,\"#7201a8\"],[0.3333333333333333,\"#9c179e\"],[0.4444444444444444,\"#bd3786\"],[0.5555555555555556,\"#d8576b\"],[0.6666666666666666,\"#ed7953\"],[0.7777777777777778,\"#fb9f3a\"],[0.8888888888888888,\"#fdca26\"],[1.0,\"#f0f921\"]]}],\"heatmap\":[{\"type\":\"heatmap\",\"colorbar\":{\"outlinewidth\":0,\"ticks\":\"\"},\"colorscale\":[[0.0,\"#0d0887\"],[0.1111111111111111,\"#46039f\"],[0.2222222222222222,\"#7201a8\"],[0.3333333333333333,\"#9c179e\"],[0.4444444444444444,\"#bd3786\"],[0.5555555555555556,\"#d8576b\"],[0.6666666666666666,\"#ed7953\"],[0.7777777777777778,\"#fb9f3a\"],[0.8888888888888888,\"#fdca26\"],[1.0,\"#f0f921\"]]}],\"heatmapgl\":[{\"type\":\"heatmapgl\",\"colorbar\":{\"outlinewidth\":0,\"ticks\":\"\"},\"colorscale\":[[0.0,\"#0d0887\"],[0.1111111111111111,\"#46039f\"],[0.2222222222222222,\"#7201a8\"],[0.3333333333333333,\"#9c179e\"],[0.4444444444444444,\"#bd3786\"],[0.5555555555555556,\"#d8576b\"],[0.6666666666666666,\"#ed7953\"],[0.7777777777777778,\"#fb9f3a\"],[0.8888888888888888,\"#fdca26\"],[1.0,\"#f0f921\"]]}],\"contourcarpet\":[{\"type\":\"contourcarpet\",\"colorbar\":{\"outlinewidth\":0,\"ticks\":\"\"}}],\"contour\":[{\"type\":\"contour\",\"colorbar\":{\"outlinewidth\":0,\"ticks\":\"\"},\"colorscale\":[[0.0,\"#0d0887\"],[0.1111111111111111,\"#46039f\"],[0.2222222222222222,\"#7201a8\"],[0.3333333333333333,\"#9c179e\"],[0.4444444444444444,\"#bd3786\"],[0.5555555555555556,\"#d8576b\"],[0.6666666666666666,\"#ed7953\"],[0.7777777777777778,\"#fb9f3a\"],[0.8888888888888888,\"#fdca26\"],[1.0,\"#f0f921\"]]}],\"surface\":[{\"type\":\"surface\",\"colorbar\":{\"outlinewidth\":0,\"ticks\":\"\"},\"colorscale\":[[0.0,\"#0d0887\"],[0.1111111111111111,\"#46039f\"],[0.2222222222222222,\"#7201a8\"],[0.3333333333333333,\"#9c179e\"],[0.4444444444444444,\"#bd3786\"],[0.5555555555555556,\"#d8576b\"],[0.6666666666666666,\"#ed7953\"],[0.7777777777777778,\"#fb9f3a\"],[0.8888888888888888,\"#fdca26\"],[1.0,\"#f0f921\"]]}],\"mesh3d\":[{\"type\":\"mesh3d\",\"colorbar\":{\"outlinewidth\":0,\"ticks\":\"\"}}],\"scatter\":[{\"fillpattern\":{\"fillmode\":\"overlay\",\"size\":10,\"solidity\":0.2},\"type\":\"scatter\"}],\"parcoords\":[{\"type\":\"parcoords\",\"line\":{\"colorbar\":{\"outlinewidth\":0,\"ticks\":\"\"}}}],\"scatterpolargl\":[{\"type\":\"scatterpolargl\",\"marker\":{\"colorbar\":{\"outlinewidth\":0,\"ticks\":\"\"}}}],\"bar\":[{\"error_x\":{\"color\":\"#2a3f5f\"},\"error_y\":{\"color\":\"#2a3f5f\"},\"marker\":{\"line\":{\"color\":\"#E5ECF6\",\"width\":0.5},\"pattern\":{\"fillmode\":\"overlay\",\"size\":10,\"solidity\":0.2}},\"type\":\"bar\"}],\"scattergeo\":[{\"type\":\"scattergeo\",\"marker\":{\"colorbar\":{\"outlinewidth\":0,\"ticks\":\"\"}}}],\"scatterpolar\":[{\"type\":\"scatterpolar\",\"marker\":{\"colorbar\":{\"outlinewidth\":0,\"ticks\":\"\"}}}],\"histogram\":[{\"marker\":{\"pattern\":{\"fillmode\":\"overlay\",\"size\":10,\"solidity\":0.2}},\"type\":\"histogram\"}],\"scattergl\":[{\"type\":\"scattergl\",\"marker\":{\"colorbar\":{\"outlinewidth\":0,\"ticks\":\"\"}}}],\"scatter3d\":[{\"type\":\"scatter3d\",\"line\":{\"colorbar\":{\"outlinewidth\":0,\"ticks\":\"\"}},\"marker\":{\"colorbar\":{\"outlinewidth\":0,\"ticks\":\"\"}}}],\"scattermapbox\":[{\"type\":\"scattermapbox\",\"marker\":{\"colorbar\":{\"outlinewidth\":0,\"ticks\":\"\"}}}],\"scatterternary\":[{\"type\":\"scatterternary\",\"marker\":{\"colorbar\":{\"outlinewidth\":0,\"ticks\":\"\"}}}],\"scattercarpet\":[{\"type\":\"scattercarpet\",\"marker\":{\"colorbar\":{\"outlinewidth\":0,\"ticks\":\"\"}}}],\"carpet\":[{\"aaxis\":{\"endlinecolor\":\"#2a3f5f\",\"gridcolor\":\"white\",\"linecolor\":\"white\",\"minorgridcolor\":\"white\",\"startlinecolor\":\"#2a3f5f\"},\"baxis\":{\"endlinecolor\":\"#2a3f5f\",\"gridcolor\":\"white\",\"linecolor\":\"white\",\"minorgridcolor\":\"white\",\"startlinecolor\":\"#2a3f5f\"},\"type\":\"carpet\"}],\"table\":[{\"cells\":{\"fill\":{\"color\":\"#EBF0F8\"},\"line\":{\"color\":\"white\"}},\"header\":{\"fill\":{\"color\":\"#C8D4E3\"},\"line\":{\"color\":\"white\"}},\"type\":\"table\"}],\"barpolar\":[{\"marker\":{\"line\":{\"color\":\"#E5ECF6\",\"width\":0.5},\"pattern\":{\"fillmode\":\"overlay\",\"size\":10,\"solidity\":0.2}},\"type\":\"barpolar\"}],\"pie\":[{\"automargin\":true,\"type\":\"pie\"}]},\"layout\":{\"autotypenumbers\":\"strict\",\"colorway\":[\"#636efa\",\"#EF553B\",\"#00cc96\",\"#ab63fa\",\"#FFA15A\",\"#19d3f3\",\"#FF6692\",\"#B6E880\",\"#FF97FF\",\"#FECB52\"],\"font\":{\"color\":\"#2a3f5f\"},\"hovermode\":\"closest\",\"hoverlabel\":{\"align\":\"left\"},\"paper_bgcolor\":\"white\",\"plot_bgcolor\":\"#E5ECF6\",\"polar\":{\"bgcolor\":\"#E5ECF6\",\"angularaxis\":{\"gridcolor\":\"white\",\"linecolor\":\"white\",\"ticks\":\"\"},\"radialaxis\":{\"gridcolor\":\"white\",\"linecolor\":\"white\",\"ticks\":\"\"}},\"ternary\":{\"bgcolor\":\"#E5ECF6\",\"aaxis\":{\"gridcolor\":\"white\",\"linecolor\":\"white\",\"ticks\":\"\"},\"baxis\":{\"gridcolor\":\"white\",\"linecolor\":\"white\",\"ticks\":\"\"},\"caxis\":{\"gridcolor\":\"white\",\"linecolor\":\"white\",\"ticks\":\"\"}},\"coloraxis\":{\"colorbar\":{\"outlinewidth\":0,\"ticks\":\"\"}},\"colorscale\":{\"sequential\":[[0.0,\"#0d0887\"],[0.1111111111111111,\"#46039f\"],[0.2222222222222222,\"#7201a8\"],[0.3333333333333333,\"#9c179e\"],[0.4444444444444444,\"#bd3786\"],[0.5555555555555556,\"#d8576b\"],[0.6666666666666666,\"#ed7953\"],[0.7777777777777778,\"#fb9f3a\"],[0.8888888888888888,\"#fdca26\"],[1.0,\"#f0f921\"]],\"sequentialminus\":[[0.0,\"#0d0887\"],[0.1111111111111111,\"#46039f\"],[0.2222222222222222,\"#7201a8\"],[0.3333333333333333,\"#9c179e\"],[0.4444444444444444,\"#bd3786\"],[0.5555555555555556,\"#d8576b\"],[0.6666666666666666,\"#ed7953\"],[0.7777777777777778,\"#fb9f3a\"],[0.8888888888888888,\"#fdca26\"],[1.0,\"#f0f921\"]],\"diverging\":[[0,\"#8e0152\"],[0.1,\"#c51b7d\"],[0.2,\"#de77ae\"],[0.3,\"#f1b6da\"],[0.4,\"#fde0ef\"],[0.5,\"#f7f7f7\"],[0.6,\"#e6f5d0\"],[0.7,\"#b8e186\"],[0.8,\"#7fbc41\"],[0.9,\"#4d9221\"],[1,\"#276419\"]]},\"xaxis\":{\"gridcolor\":\"white\",\"linecolor\":\"white\",\"ticks\":\"\",\"title\":{\"standoff\":15},\"zerolinecolor\":\"white\",\"automargin\":true,\"zerolinewidth\":2},\"yaxis\":{\"gridcolor\":\"white\",\"linecolor\":\"white\",\"ticks\":\"\",\"title\":{\"standoff\":15},\"zerolinecolor\":\"white\",\"automargin\":true,\"zerolinewidth\":2},\"scene\":{\"xaxis\":{\"backgroundcolor\":\"#E5ECF6\",\"gridcolor\":\"white\",\"linecolor\":\"white\",\"showbackground\":true,\"ticks\":\"\",\"zerolinecolor\":\"white\",\"gridwidth\":2},\"yaxis\":{\"backgroundcolor\":\"#E5ECF6\",\"gridcolor\":\"white\",\"linecolor\":\"white\",\"showbackground\":true,\"ticks\":\"\",\"zerolinecolor\":\"white\",\"gridwidth\":2},\"zaxis\":{\"backgroundcolor\":\"#E5ECF6\",\"gridcolor\":\"white\",\"linecolor\":\"white\",\"showbackground\":true,\"ticks\":\"\",\"zerolinecolor\":\"white\",\"gridwidth\":2}},\"shapedefaults\":{\"line\":{\"color\":\"#2a3f5f\"}},\"annotationdefaults\":{\"arrowcolor\":\"#2a3f5f\",\"arrowhead\":0,\"arrowwidth\":1},\"geo\":{\"bgcolor\":\"white\",\"landcolor\":\"#E5ECF6\",\"subunitcolor\":\"white\",\"showland\":true,\"showlakes\":true,\"lakecolor\":\"white\"},\"title\":{\"x\":0.05},\"mapbox\":{\"style\":\"light\"}}},\"xaxis\":{\"anchor\":\"y\",\"domain\":[0.0,0.18400000000000002],\"scaleanchor\":\"y\",\"constrain\":\"domain\"},\"yaxis\":{\"anchor\":\"x\",\"domain\":[0.0,1.0],\"autorange\":\"reversed\",\"constrain\":\"domain\"},\"xaxis2\":{\"anchor\":\"y2\",\"domain\":[0.20400000000000001,0.388],\"matches\":\"x\"},\"yaxis2\":{\"anchor\":\"x2\",\"domain\":[0.0,1.0],\"matches\":\"y\",\"showticklabels\":false},\"xaxis3\":{\"anchor\":\"y3\",\"domain\":[0.40800000000000003,0.5920000000000001],\"matches\":\"x\"},\"yaxis3\":{\"anchor\":\"x3\",\"domain\":[0.0,1.0],\"matches\":\"y\",\"showticklabels\":false},\"xaxis4\":{\"anchor\":\"y4\",\"domain\":[0.6120000000000001,0.7960000000000002],\"matches\":\"x\"},\"yaxis4\":{\"anchor\":\"x4\",\"domain\":[0.0,1.0],\"matches\":\"y\",\"showticklabels\":false},\"xaxis5\":{\"anchor\":\"y5\",\"domain\":[0.8160000000000001,1.0],\"matches\":\"x\"},\"yaxis5\":{\"anchor\":\"x5\",\"domain\":[0.0,1.0],\"matches\":\"y\",\"showticklabels\":false},\"annotations\":[{\"font\":{},\"showarrow\":false,\"text\":\"digit = 8\",\"x\":0.09200000000000001,\"xanchor\":\"center\",\"xref\":\"paper\",\"y\":1.0,\"yanchor\":\"bottom\",\"yref\":\"paper\"},{\"font\":{},\"showarrow\":false,\"text\":\"digit = 3\",\"x\":0.29600000000000004,\"xanchor\":\"center\",\"xref\":\"paper\",\"y\":1.0,\"yanchor\":\"bottom\",\"yref\":\"paper\"},{\"font\":{},\"showarrow\":false,\"text\":\"digit = 9\",\"x\":0.5,\"xanchor\":\"center\",\"xref\":\"paper\",\"y\":1.0,\"yanchor\":\"bottom\",\"yref\":\"paper\"},{\"font\":{},\"showarrow\":false,\"text\":\"digit = 0\",\"x\":0.7040000000000002,\"xanchor\":\"center\",\"xref\":\"paper\",\"y\":1.0,\"yanchor\":\"bottom\",\"yref\":\"paper\"},{\"font\":{},\"showarrow\":false,\"text\":\"digit = 8\",\"x\":0.908,\"xanchor\":\"center\",\"xref\":\"paper\",\"y\":1.0,\"yanchor\":\"bottom\",\"yref\":\"paper\"}],\"coloraxis\":{\"colorscale\":[[0.0,\"#0d0887\"],[0.1111111111111111,\"#46039f\"],[0.2222222222222222,\"#7201a8\"],[0.3333333333333333,\"#9c179e\"],[0.4444444444444444,\"#bd3786\"],[0.5555555555555556,\"#d8576b\"],[0.6666666666666666,\"#ed7953\"],[0.7777777777777778,\"#fb9f3a\"],[0.8888888888888888,\"#fdca26\"],[1.0,\"#f0f921\"]]},\"margin\":{\"t\":60}},                        {\"responsive\": true}                    ).then(function(){\n",
              "                            \n",
              "var gd = document.getElementById('5bf3a1b7-fb08-4973-aa2c-a6c49eb27a3c');\n",
              "var x = new MutationObserver(function (mutations, observer) {{\n",
              "        var display = window.getComputedStyle(gd).display;\n",
              "        if (!display || display === 'none') {{\n",
              "            console.log([gd, 'removed!']);\n",
              "            Plotly.purge(gd);\n",
              "            observer.disconnect();\n",
              "        }}\n",
              "}});\n",
              "\n",
              "// Listen for the removal of the full notebook cells\n",
              "var notebookContainer = gd.closest('#notebook-container');\n",
              "if (notebookContainer) {{\n",
              "    x.observe(notebookContainer, {childList: true});\n",
              "}}\n",
              "\n",
              "// Listen for the clearing of the current output cell\n",
              "var outputEl = gd.closest('.output');\n",
              "if (outputEl) {{\n",
              "    x.observe(outputEl, {childList: true});\n",
              "}}\n",
              "\n",
              "                        })                };                            </script>        </div>\n",
              "</body>\n",
              "</html>"
            ]
          },
          "metadata": {}
        }
      ]
    },
    {
      "cell_type": "code",
      "source": [
        "Xmin, Xmax = X_.min(), X_.max()\n",
        "print(f\"Min = {Xmin}, Max = {Xmax}\")"
      ],
      "metadata": {
        "colab": {
          "base_uri": "https://localhost:8080/"
        },
        "id": "s6HRuFXR5DGy",
        "outputId": "c6345b6f-f590-4f47-f471-96a8808fb33a"
      },
      "execution_count": 62,
      "outputs": [
        {
          "output_type": "stream",
          "name": "stdout",
          "text": [
            "Max = 0.0, Min = 1.0\n"
          ]
        }
      ]
    },
    {
      "cell_type": "markdown",
      "source": [
        "# Deep Learning Model Creation\n",
        "\n",
        "In this part, we create the model"
      ],
      "metadata": {
        "id": "aP8i4Guq6P2N"
      }
    },
    {
      "cell_type": "markdown",
      "source": [
        "## Splitting Data\n",
        "\n",
        "- We split the data into `train` and `test` splits, for training the model and validating the performance of the model.\n",
        "- 75% of the data is used for training and 25% is used for validation (chosen arbitrarily)"
      ],
      "metadata": {
        "id": "ua7Kula36h2G"
      }
    },
    {
      "cell_type": "code",
      "source": [
        "X_train, X_test, y_train, y_test = train_test_split(\n",
        "    X_, y, test_size=0.25,\n",
        "    random_state=69,\n",
        "    shuffle=True, stratify=y\n",
        ")\n",
        "\n",
        "X_train.shape, y_train.shape, X_test.shape, y_test.shape"
      ],
      "metadata": {
        "colab": {
          "base_uri": "https://localhost:8080/"
        },
        "id": "s3NcwtzY5JQQ",
        "outputId": "05e7165c-e8a8-4a92-c05a-7463e017ca6c"
      },
      "execution_count": 68,
      "outputs": [
        {
          "output_type": "execute_result",
          "data": {
            "text/plain": [
              "((1347, 8, 8), (1347,), (450, 8, 8), (450,))"
            ]
          },
          "metadata": {},
          "execution_count": 68
        }
      ]
    },
    {
      "cell_type": "markdown",
      "source": [
        "## Model with Hyperparameter Tuning\n",
        "\n",
        "- Create a model with tuneable hyperparameters\n",
        "- These hyperparameters will be searched for the best combination"
      ],
      "metadata": {
        "id": "y9Y7290E8EEp"
      }
    },
    {
      "cell_type": "code",
      "source": [
        "def create_model(units1, units2, activation, dropout, learning_rate):\n",
        "  # Create the layers of the model\n",
        "  model = tf.keras.Sequential([\n",
        "      tf.keras.layers.Flatten(),  # The flattening operation takes place here\n",
        "      tf.keras.layers.Dense(units=units1, activation=activation),\n",
        "      tf.keras.layers.Dropout(rate=dropout),\n",
        "      tf.keras.layers.Dense(units=units2, activation=activation),\n",
        "      tf.keras.layers.Dropout(rate=dropout),\n",
        "      tf.keras.layers.Dense(units=10) # Not applying Softmax as `from_logits` in loss function takes care of it\n",
        "  ])\n",
        "\n",
        "  model.compile(optimizer=keras.optimizers.Adam(learning_rate=learning_rate),\n",
        "                loss=keras.losses.SparseCategoricalCrossentropy(from_logits=True),\n",
        "                metrics=['accuracy'])\n",
        "\n",
        "  return model\n",
        "\n",
        "def model_builder(hp) -> tf.keras.Sequential:\n",
        "  # Tuneable hyperparameters\n",
        "  hp_units1 = hp.Int('units1', min_value=128, max_value=512, step=128)\n",
        "  hp_units2 = hp.Int('units2', min_value=16, max_value=32, step=4)\n",
        "  hp_learning_rate = hp.Choice('learning_rate', values=[1e-2, 1e-3, 1e-4])\n",
        "  hp_dropout = hp.Choice('dropout', values=[0.0, 0.1, 0.2, 0.3])\n",
        "  hp_activ = hp.Choice('activation', values=[\"relu\", \"tanh\"])\n",
        "\n",
        "  model = create_model(\n",
        "      units1=hp_units1,\n",
        "      units2=hp_units2,\n",
        "      activation=hp_activ,\n",
        "      dropout=hp_dropout,\n",
        "      learning_rate=hp_learning_rate\n",
        "  )\n",
        "\n",
        "  return model"
      ],
      "metadata": {
        "id": "WXUaZPHU7mgO"
      },
      "execution_count": 101,
      "outputs": []
    },
    {
      "cell_type": "markdown",
      "source": [
        "## Tuning\n",
        "\n",
        "After defining the search, we now tune the hyperparameters."
      ],
      "metadata": {
        "id": "oHDqn0nh_E3X"
      }
    },
    {
      "cell_type": "markdown",
      "source": [
        "### Instantiate Tuner"
      ],
      "metadata": {
        "id": "mxudiqDh_Pzx"
      }
    },
    {
      "cell_type": "code",
      "source": [
        "tuner = kt.RandomSearch(\n",
        "    hypermodel=model_builder,\n",
        "    objective=\"val_accuracy\",\n",
        "    max_trials=30,\n",
        "    executions_per_trial=2,\n",
        "    overwrite=True,\n",
        "    directory=\"logs\",\n",
        "    project_name=\"mnist_tuner\",\n",
        ")\n",
        "\n",
        "tuner.search_space_summary()"
      ],
      "metadata": {
        "colab": {
          "base_uri": "https://localhost:8080/"
        },
        "id": "XrAVEiMw_Ulm",
        "outputId": "0f45286b-ee45-4ba2-ed30-ef9d4c9b2307"
      },
      "execution_count": 104,
      "outputs": [
        {
          "output_type": "stream",
          "name": "stdout",
          "text": [
            "Search space summary\n",
            "Default search space size: 5\n",
            "units1 (Int)\n",
            "{'default': None, 'conditions': [], 'min_value': 128, 'max_value': 512, 'step': 128, 'sampling': 'linear'}\n",
            "units2 (Int)\n",
            "{'default': None, 'conditions': [], 'min_value': 16, 'max_value': 32, 'step': 4, 'sampling': 'linear'}\n",
            "learning_rate (Choice)\n",
            "{'default': 0.01, 'conditions': [], 'values': [0.01, 0.001, 0.0001], 'ordered': True}\n",
            "dropout (Choice)\n",
            "{'default': 0.0, 'conditions': [], 'values': [0.0, 0.1, 0.2, 0.3], 'ordered': True}\n",
            "activation (Choice)\n",
            "{'default': 'relu', 'conditions': [], 'values': ['relu', 'tanh'], 'ordered': False}\n"
          ]
        }
      ]
    },
    {
      "cell_type": "markdown",
      "source": [
        "### Start the Search\n",
        "\n",
        "Randomly search for the best hyperparameter combination"
      ],
      "metadata": {
        "id": "O_ifh_-lB278"
      }
    },
    {
      "cell_type": "code",
      "source": [
        "tuner.search(\n",
        "    X_train, y_train,\n",
        "    epochs=8,\n",
        "    validation_data=(X_test, y_test),\n",
        ")"
      ],
      "metadata": {
        "colab": {
          "base_uri": "https://localhost:8080/"
        },
        "id": "zRNwPRmaBwtA",
        "outputId": "ff53398e-fabf-4515-8d03-11587d9d10b9"
      },
      "execution_count": 105,
      "outputs": [
        {
          "output_type": "stream",
          "name": "stdout",
          "text": [
            "Trial 30 Complete [00h 00m 09s]\n",
            "val_accuracy: 0.800000011920929\n",
            "\n",
            "Best val_accuracy So Far: 0.972222238779068\n",
            "Total elapsed time: 00h 04m 08s\n"
          ]
        }
      ]
    },
    {
      "cell_type": "code",
      "source": [
        "tuner.results_summary()"
      ],
      "metadata": {
        "colab": {
          "base_uri": "https://localhost:8080/"
        },
        "id": "VUfb_IN2Cn3z",
        "outputId": "9c4c2fa5-e4cc-4692-c820-3d962d5e0746"
      },
      "execution_count": 106,
      "outputs": [
        {
          "output_type": "stream",
          "name": "stdout",
          "text": [
            "Results summary\n",
            "Results in logs/mnist_tuner\n",
            "Showing 10 best trials\n",
            "Objective(name=\"val_accuracy\", direction=\"max\")\n",
            "\n",
            "Trial 17 summary\n",
            "Hyperparameters:\n",
            "units1: 384\n",
            "units2: 24\n",
            "learning_rate: 0.01\n",
            "dropout: 0.0\n",
            "activation: relu\n",
            "Score: 0.972222238779068\n",
            "\n",
            "Trial 07 summary\n",
            "Hyperparameters:\n",
            "units1: 128\n",
            "units2: 20\n",
            "learning_rate: 0.01\n",
            "dropout: 0.1\n",
            "activation: tanh\n",
            "Score: 0.9622222185134888\n",
            "\n",
            "Trial 02 summary\n",
            "Hyperparameters:\n",
            "units1: 512\n",
            "units2: 24\n",
            "learning_rate: 0.01\n",
            "dropout: 0.1\n",
            "activation: relu\n",
            "Score: 0.9600000083446503\n",
            "\n",
            "Trial 26 summary\n",
            "Hyperparameters:\n",
            "units1: 384\n",
            "units2: 20\n",
            "learning_rate: 0.01\n",
            "dropout: 0.1\n",
            "activation: relu\n",
            "Score: 0.9588888883590698\n",
            "\n",
            "Trial 28 summary\n",
            "Hyperparameters:\n",
            "units1: 384\n",
            "units2: 32\n",
            "learning_rate: 0.001\n",
            "dropout: 0.2\n",
            "activation: tanh\n",
            "Score: 0.9588888883590698\n",
            "\n",
            "Trial 00 summary\n",
            "Hyperparameters:\n",
            "units1: 128\n",
            "units2: 24\n",
            "learning_rate: 0.01\n",
            "dropout: 0.0\n",
            "activation: tanh\n",
            "Score: 0.9555555582046509\n",
            "\n",
            "Trial 20 summary\n",
            "Hyperparameters:\n",
            "units1: 256\n",
            "units2: 24\n",
            "learning_rate: 0.001\n",
            "dropout: 0.0\n",
            "activation: relu\n",
            "Score: 0.9555555582046509\n",
            "\n",
            "Trial 19 summary\n",
            "Hyperparameters:\n",
            "units1: 384\n",
            "units2: 24\n",
            "learning_rate: 0.001\n",
            "dropout: 0.2\n",
            "activation: relu\n",
            "Score: 0.9533333480358124\n",
            "\n",
            "Trial 16 summary\n",
            "Hyperparameters:\n",
            "units1: 384\n",
            "units2: 28\n",
            "learning_rate: 0.001\n",
            "dropout: 0.1\n",
            "activation: relu\n",
            "Score: 0.95333331823349\n",
            "\n",
            "Trial 06 summary\n",
            "Hyperparameters:\n",
            "units1: 256\n",
            "units2: 32\n",
            "learning_rate: 0.001\n",
            "dropout: 0.2\n",
            "activation: tanh\n",
            "Score: 0.9522222280502319\n"
          ]
        }
      ]
    },
    {
      "cell_type": "markdown",
      "source": [
        "### Get the best model\n",
        "\n",
        "Now we get the best model and train it for more epochs"
      ],
      "metadata": {
        "id": "J3k9WFEIQLWR"
      }
    },
    {
      "cell_type": "code",
      "source": [
        "# best_model = tuner.get_best_models(num_models=1)[0]\n",
        "best_hyperp = tuner.get_best_hyperparameters(num_trials=1)[0]\n",
        "best_hyperp.values"
      ],
      "metadata": {
        "id": "OTUPP4E2QJ6i",
        "outputId": "2eefd631-97ce-4ce1-aeb2-3c4e672ba16d",
        "colab": {
          "base_uri": "https://localhost:8080/"
        }
      },
      "execution_count": 112,
      "outputs": [
        {
          "output_type": "execute_result",
          "data": {
            "text/plain": [
              "{'units1': 384,\n",
              " 'units2': 24,\n",
              " 'learning_rate': 0.01,\n",
              " 'dropout': 0.0,\n",
              " 'activation': 'relu'}"
            ]
          },
          "metadata": {},
          "execution_count": 112
        }
      ]
    },
    {
      "cell_type": "code",
      "source": [
        "best_model = model_builder(best_hyperp)\n",
        "best_model.fit(X_train, y_train, epochs=100, batch_size=32, validation_split=0.25)"
      ],
      "metadata": {
        "id": "yjEQM0ivRCk3",
        "outputId": "b1dfd18c-91d4-41ac-db89-e5cf26e3bb46",
        "colab": {
          "base_uri": "https://localhost:8080/"
        }
      },
      "execution_count": 115,
      "outputs": [
        {
          "output_type": "stream",
          "name": "stdout",
          "text": [
            "Epoch 1/100\n",
            "32/32 [==============================] - 1s 13ms/step - loss: 0.8509 - accuracy: 0.7188 - val_loss: 0.2606 - val_accuracy: 0.9258\n",
            "Epoch 2/100\n",
            "32/32 [==============================] - 0s 5ms/step - loss: 0.1963 - accuracy: 0.9426 - val_loss: 0.1360 - val_accuracy: 0.9614\n",
            "Epoch 3/100\n",
            "32/32 [==============================] - 0s 5ms/step - loss: 0.1321 - accuracy: 0.9505 - val_loss: 0.2202 - val_accuracy: 0.9258\n",
            "Epoch 4/100\n",
            "32/32 [==============================] - 0s 6ms/step - loss: 0.1430 - accuracy: 0.9574 - val_loss: 0.0748 - val_accuracy: 0.9792\n",
            "Epoch 5/100\n",
            "32/32 [==============================] - 0s 7ms/step - loss: 0.0985 - accuracy: 0.9693 - val_loss: 0.0978 - val_accuracy: 0.9703\n",
            "Epoch 6/100\n",
            "32/32 [==============================] - 0s 6ms/step - loss: 0.0632 - accuracy: 0.9861 - val_loss: 0.0731 - val_accuracy: 0.9792\n",
            "Epoch 7/100\n",
            "32/32 [==============================] - 0s 6ms/step - loss: 0.0477 - accuracy: 0.9881 - val_loss: 0.0782 - val_accuracy: 0.9733\n",
            "Epoch 8/100\n",
            "32/32 [==============================] - 0s 7ms/step - loss: 0.0386 - accuracy: 0.9871 - val_loss: 0.0851 - val_accuracy: 0.9733\n",
            "Epoch 9/100\n",
            "32/32 [==============================] - 0s 4ms/step - loss: 0.0877 - accuracy: 0.9653 - val_loss: 0.1293 - val_accuracy: 0.9436\n",
            "Epoch 10/100\n",
            "32/32 [==============================] - 0s 4ms/step - loss: 0.0831 - accuracy: 0.9723 - val_loss: 0.0876 - val_accuracy: 0.9763\n",
            "Epoch 11/100\n",
            "32/32 [==============================] - 0s 3ms/step - loss: 0.0309 - accuracy: 0.9911 - val_loss: 0.0499 - val_accuracy: 0.9792\n",
            "Epoch 12/100\n",
            "32/32 [==============================] - 0s 4ms/step - loss: 0.0239 - accuracy: 0.9921 - val_loss: 0.0340 - val_accuracy: 0.9822\n",
            "Epoch 13/100\n",
            "32/32 [==============================] - 0s 4ms/step - loss: 0.0232 - accuracy: 0.9941 - val_loss: 0.1037 - val_accuracy: 0.9733\n",
            "Epoch 14/100\n",
            "32/32 [==============================] - 0s 4ms/step - loss: 0.0394 - accuracy: 0.9891 - val_loss: 0.0800 - val_accuracy: 0.9763\n",
            "Epoch 15/100\n",
            "32/32 [==============================] - 0s 4ms/step - loss: 0.0248 - accuracy: 0.9950 - val_loss: 0.0473 - val_accuracy: 0.9881\n",
            "Epoch 16/100\n",
            "32/32 [==============================] - 0s 4ms/step - loss: 0.0069 - accuracy: 0.9980 - val_loss: 0.0816 - val_accuracy: 0.9763\n",
            "Epoch 17/100\n",
            "32/32 [==============================] - 0s 3ms/step - loss: 0.0037 - accuracy: 0.9990 - val_loss: 0.0505 - val_accuracy: 0.9852\n",
            "Epoch 18/100\n",
            "32/32 [==============================] - 0s 4ms/step - loss: 0.0017 - accuracy: 1.0000 - val_loss: 0.0428 - val_accuracy: 0.9852\n",
            "Epoch 19/100\n",
            "32/32 [==============================] - 0s 3ms/step - loss: 5.9468e-04 - accuracy: 1.0000 - val_loss: 0.0537 - val_accuracy: 0.9822\n",
            "Epoch 20/100\n",
            "32/32 [==============================] - 0s 3ms/step - loss: 4.1188e-04 - accuracy: 1.0000 - val_loss: 0.0508 - val_accuracy: 0.9881\n",
            "Epoch 21/100\n",
            "32/32 [==============================] - 0s 3ms/step - loss: 3.6436e-04 - accuracy: 1.0000 - val_loss: 0.0515 - val_accuracy: 0.9881\n",
            "Epoch 22/100\n",
            "32/32 [==============================] - 0s 4ms/step - loss: 3.2897e-04 - accuracy: 1.0000 - val_loss: 0.0531 - val_accuracy: 0.9852\n",
            "Epoch 23/100\n",
            "32/32 [==============================] - 0s 3ms/step - loss: 2.9859e-04 - accuracy: 1.0000 - val_loss: 0.0521 - val_accuracy: 0.9881\n",
            "Epoch 24/100\n",
            "32/32 [==============================] - 0s 4ms/step - loss: 2.6533e-04 - accuracy: 1.0000 - val_loss: 0.0528 - val_accuracy: 0.9852\n",
            "Epoch 25/100\n",
            "32/32 [==============================] - 0s 4ms/step - loss: 2.5056e-04 - accuracy: 1.0000 - val_loss: 0.0522 - val_accuracy: 0.9881\n",
            "Epoch 26/100\n",
            "32/32 [==============================] - 0s 4ms/step - loss: 2.3055e-04 - accuracy: 1.0000 - val_loss: 0.0537 - val_accuracy: 0.9881\n",
            "Epoch 27/100\n",
            "32/32 [==============================] - 0s 3ms/step - loss: 2.1760e-04 - accuracy: 1.0000 - val_loss: 0.0527 - val_accuracy: 0.9881\n",
            "Epoch 28/100\n",
            "32/32 [==============================] - 0s 3ms/step - loss: 2.0012e-04 - accuracy: 1.0000 - val_loss: 0.0541 - val_accuracy: 0.9881\n",
            "Epoch 29/100\n",
            "32/32 [==============================] - 0s 3ms/step - loss: 1.9144e-04 - accuracy: 1.0000 - val_loss: 0.0545 - val_accuracy: 0.9881\n",
            "Epoch 30/100\n",
            "32/32 [==============================] - 0s 3ms/step - loss: 1.8081e-04 - accuracy: 1.0000 - val_loss: 0.0539 - val_accuracy: 0.9881\n",
            "Epoch 31/100\n",
            "32/32 [==============================] - 0s 4ms/step - loss: 1.7377e-04 - accuracy: 1.0000 - val_loss: 0.0535 - val_accuracy: 0.9881\n",
            "Epoch 32/100\n",
            "32/32 [==============================] - 0s 3ms/step - loss: 1.6439e-04 - accuracy: 1.0000 - val_loss: 0.0552 - val_accuracy: 0.9881\n",
            "Epoch 33/100\n",
            "32/32 [==============================] - 0s 4ms/step - loss: 1.5691e-04 - accuracy: 1.0000 - val_loss: 0.0554 - val_accuracy: 0.9881\n",
            "Epoch 34/100\n",
            "32/32 [==============================] - 0s 4ms/step - loss: 1.4645e-04 - accuracy: 1.0000 - val_loss: 0.0554 - val_accuracy: 0.9881\n",
            "Epoch 35/100\n",
            "32/32 [==============================] - 0s 4ms/step - loss: 1.4179e-04 - accuracy: 1.0000 - val_loss: 0.0560 - val_accuracy: 0.9881\n",
            "Epoch 36/100\n",
            "32/32 [==============================] - 0s 3ms/step - loss: 1.3463e-04 - accuracy: 1.0000 - val_loss: 0.0551 - val_accuracy: 0.9881\n",
            "Epoch 37/100\n",
            "32/32 [==============================] - 0s 3ms/step - loss: 1.3052e-04 - accuracy: 1.0000 - val_loss: 0.0544 - val_accuracy: 0.9881\n",
            "Epoch 38/100\n",
            "32/32 [==============================] - 0s 3ms/step - loss: 1.2389e-04 - accuracy: 1.0000 - val_loss: 0.0554 - val_accuracy: 0.9881\n",
            "Epoch 39/100\n",
            "32/32 [==============================] - 0s 4ms/step - loss: 1.1903e-04 - accuracy: 1.0000 - val_loss: 0.0552 - val_accuracy: 0.9881\n",
            "Epoch 40/100\n",
            "32/32 [==============================] - 0s 3ms/step - loss: 1.1519e-04 - accuracy: 1.0000 - val_loss: 0.0557 - val_accuracy: 0.9881\n",
            "Epoch 41/100\n",
            "32/32 [==============================] - 0s 3ms/step - loss: 1.1055e-04 - accuracy: 1.0000 - val_loss: 0.0556 - val_accuracy: 0.9881\n",
            "Epoch 42/100\n",
            "32/32 [==============================] - 0s 4ms/step - loss: 1.0571e-04 - accuracy: 1.0000 - val_loss: 0.0551 - val_accuracy: 0.9881\n",
            "Epoch 43/100\n",
            "32/32 [==============================] - 0s 4ms/step - loss: 1.0346e-04 - accuracy: 1.0000 - val_loss: 0.0565 - val_accuracy: 0.9881\n",
            "Epoch 44/100\n",
            "32/32 [==============================] - 0s 3ms/step - loss: 9.8208e-05 - accuracy: 1.0000 - val_loss: 0.0560 - val_accuracy: 0.9881\n",
            "Epoch 45/100\n",
            "32/32 [==============================] - 0s 4ms/step - loss: 9.4764e-05 - accuracy: 1.0000 - val_loss: 0.0555 - val_accuracy: 0.9881\n",
            "Epoch 46/100\n",
            "32/32 [==============================] - 0s 3ms/step - loss: 9.1653e-05 - accuracy: 1.0000 - val_loss: 0.0556 - val_accuracy: 0.9881\n",
            "Epoch 47/100\n",
            "32/32 [==============================] - 0s 4ms/step - loss: 8.8424e-05 - accuracy: 1.0000 - val_loss: 0.0559 - val_accuracy: 0.9881\n",
            "Epoch 48/100\n",
            "32/32 [==============================] - 0s 3ms/step - loss: 8.5093e-05 - accuracy: 1.0000 - val_loss: 0.0565 - val_accuracy: 0.9881\n",
            "Epoch 49/100\n",
            "32/32 [==============================] - 0s 4ms/step - loss: 8.2442e-05 - accuracy: 1.0000 - val_loss: 0.0564 - val_accuracy: 0.9881\n",
            "Epoch 50/100\n",
            "32/32 [==============================] - 0s 5ms/step - loss: 7.9688e-05 - accuracy: 1.0000 - val_loss: 0.0565 - val_accuracy: 0.9881\n",
            "Epoch 51/100\n",
            "32/32 [==============================] - 0s 3ms/step - loss: 7.6303e-05 - accuracy: 1.0000 - val_loss: 0.0565 - val_accuracy: 0.9881\n",
            "Epoch 52/100\n",
            "32/32 [==============================] - 0s 3ms/step - loss: 7.4348e-05 - accuracy: 1.0000 - val_loss: 0.0564 - val_accuracy: 0.9881\n",
            "Epoch 53/100\n",
            "32/32 [==============================] - 0s 3ms/step - loss: 7.2017e-05 - accuracy: 1.0000 - val_loss: 0.0567 - val_accuracy: 0.9881\n",
            "Epoch 54/100\n",
            "32/32 [==============================] - 0s 3ms/step - loss: 6.9479e-05 - accuracy: 1.0000 - val_loss: 0.0570 - val_accuracy: 0.9881\n",
            "Epoch 55/100\n",
            "32/32 [==============================] - 0s 3ms/step - loss: 6.6872e-05 - accuracy: 1.0000 - val_loss: 0.0567 - val_accuracy: 0.9881\n",
            "Epoch 56/100\n",
            "32/32 [==============================] - 0s 3ms/step - loss: 6.5493e-05 - accuracy: 1.0000 - val_loss: 0.0569 - val_accuracy: 0.9881\n",
            "Epoch 57/100\n",
            "32/32 [==============================] - 0s 4ms/step - loss: 6.3388e-05 - accuracy: 1.0000 - val_loss: 0.0564 - val_accuracy: 0.9881\n",
            "Epoch 58/100\n",
            "32/32 [==============================] - 0s 3ms/step - loss: 6.1014e-05 - accuracy: 1.0000 - val_loss: 0.0572 - val_accuracy: 0.9881\n",
            "Epoch 59/100\n",
            "32/32 [==============================] - 0s 4ms/step - loss: 5.9546e-05 - accuracy: 1.0000 - val_loss: 0.0575 - val_accuracy: 0.9881\n",
            "Epoch 60/100\n",
            "32/32 [==============================] - 0s 3ms/step - loss: 5.7094e-05 - accuracy: 1.0000 - val_loss: 0.0577 - val_accuracy: 0.9881\n",
            "Epoch 61/100\n",
            "32/32 [==============================] - 0s 3ms/step - loss: 5.5841e-05 - accuracy: 1.0000 - val_loss: 0.0567 - val_accuracy: 0.9881\n",
            "Epoch 62/100\n",
            "32/32 [==============================] - 0s 4ms/step - loss: 5.4603e-05 - accuracy: 1.0000 - val_loss: 0.0573 - val_accuracy: 0.9881\n",
            "Epoch 63/100\n",
            "32/32 [==============================] - 0s 4ms/step - loss: 5.2414e-05 - accuracy: 1.0000 - val_loss: 0.0572 - val_accuracy: 0.9881\n",
            "Epoch 64/100\n",
            "32/32 [==============================] - 0s 4ms/step - loss: 5.1121e-05 - accuracy: 1.0000 - val_loss: 0.0578 - val_accuracy: 0.9881\n",
            "Epoch 65/100\n",
            "32/32 [==============================] - 0s 4ms/step - loss: 4.9686e-05 - accuracy: 1.0000 - val_loss: 0.0575 - val_accuracy: 0.9881\n",
            "Epoch 66/100\n",
            "32/32 [==============================] - 0s 3ms/step - loss: 4.7812e-05 - accuracy: 1.0000 - val_loss: 0.0576 - val_accuracy: 0.9881\n",
            "Epoch 67/100\n",
            "32/32 [==============================] - 0s 4ms/step - loss: 4.6687e-05 - accuracy: 1.0000 - val_loss: 0.0571 - val_accuracy: 0.9881\n",
            "Epoch 68/100\n",
            "32/32 [==============================] - 0s 3ms/step - loss: 4.5358e-05 - accuracy: 1.0000 - val_loss: 0.0573 - val_accuracy: 0.9881\n",
            "Epoch 69/100\n",
            "32/32 [==============================] - 0s 4ms/step - loss: 4.3998e-05 - accuracy: 1.0000 - val_loss: 0.0577 - val_accuracy: 0.9881\n",
            "Epoch 70/100\n",
            "32/32 [==============================] - 0s 4ms/step - loss: 4.2859e-05 - accuracy: 1.0000 - val_loss: 0.0578 - val_accuracy: 0.9881\n",
            "Epoch 71/100\n",
            "32/32 [==============================] - 0s 3ms/step - loss: 4.2295e-05 - accuracy: 1.0000 - val_loss: 0.0575 - val_accuracy: 0.9881\n",
            "Epoch 72/100\n",
            "32/32 [==============================] - 0s 3ms/step - loss: 4.0533e-05 - accuracy: 1.0000 - val_loss: 0.0581 - val_accuracy: 0.9881\n",
            "Epoch 73/100\n",
            "32/32 [==============================] - 0s 3ms/step - loss: 3.9762e-05 - accuracy: 1.0000 - val_loss: 0.0583 - val_accuracy: 0.9881\n",
            "Epoch 74/100\n",
            "32/32 [==============================] - 0s 3ms/step - loss: 3.8888e-05 - accuracy: 1.0000 - val_loss: 0.0575 - val_accuracy: 0.9881\n",
            "Epoch 75/100\n",
            "32/32 [==============================] - 0s 4ms/step - loss: 3.7776e-05 - accuracy: 1.0000 - val_loss: 0.0581 - val_accuracy: 0.9881\n",
            "Epoch 76/100\n",
            "32/32 [==============================] - 0s 4ms/step - loss: 3.6570e-05 - accuracy: 1.0000 - val_loss: 0.0583 - val_accuracy: 0.9881\n",
            "Epoch 77/100\n",
            "32/32 [==============================] - 0s 4ms/step - loss: 3.5760e-05 - accuracy: 1.0000 - val_loss: 0.0581 - val_accuracy: 0.9881\n",
            "Epoch 78/100\n",
            "32/32 [==============================] - 0s 3ms/step - loss: 3.5115e-05 - accuracy: 1.0000 - val_loss: 0.0587 - val_accuracy: 0.9881\n",
            "Epoch 79/100\n",
            "32/32 [==============================] - 0s 3ms/step - loss: 3.4099e-05 - accuracy: 1.0000 - val_loss: 0.0585 - val_accuracy: 0.9881\n",
            "Epoch 80/100\n",
            "32/32 [==============================] - 0s 3ms/step - loss: 3.3332e-05 - accuracy: 1.0000 - val_loss: 0.0588 - val_accuracy: 0.9881\n",
            "Epoch 81/100\n",
            "32/32 [==============================] - 0s 4ms/step - loss: 3.2209e-05 - accuracy: 1.0000 - val_loss: 0.0583 - val_accuracy: 0.9881\n",
            "Epoch 82/100\n",
            "32/32 [==============================] - 0s 3ms/step - loss: 3.1708e-05 - accuracy: 1.0000 - val_loss: 0.0586 - val_accuracy: 0.9881\n",
            "Epoch 83/100\n",
            "32/32 [==============================] - 0s 3ms/step - loss: 3.0989e-05 - accuracy: 1.0000 - val_loss: 0.0585 - val_accuracy: 0.9881\n",
            "Epoch 84/100\n",
            "32/32 [==============================] - 0s 4ms/step - loss: 3.0137e-05 - accuracy: 1.0000 - val_loss: 0.0597 - val_accuracy: 0.9881\n",
            "Epoch 85/100\n",
            "32/32 [==============================] - 0s 3ms/step - loss: 2.9557e-05 - accuracy: 1.0000 - val_loss: 0.0586 - val_accuracy: 0.9881\n",
            "Epoch 86/100\n",
            "32/32 [==============================] - 0s 3ms/step - loss: 2.8701e-05 - accuracy: 1.0000 - val_loss: 0.0592 - val_accuracy: 0.9881\n",
            "Epoch 87/100\n",
            "32/32 [==============================] - 0s 3ms/step - loss: 2.7912e-05 - accuracy: 1.0000 - val_loss: 0.0586 - val_accuracy: 0.9881\n",
            "Epoch 88/100\n",
            "32/32 [==============================] - 0s 3ms/step - loss: 2.7276e-05 - accuracy: 1.0000 - val_loss: 0.0594 - val_accuracy: 0.9881\n",
            "Epoch 89/100\n",
            "32/32 [==============================] - 0s 4ms/step - loss: 2.6785e-05 - accuracy: 1.0000 - val_loss: 0.0589 - val_accuracy: 0.9881\n",
            "Epoch 90/100\n",
            "32/32 [==============================] - 0s 3ms/step - loss: 2.6225e-05 - accuracy: 1.0000 - val_loss: 0.0595 - val_accuracy: 0.9881\n",
            "Epoch 91/100\n",
            "32/32 [==============================] - 0s 3ms/step - loss: 2.5580e-05 - accuracy: 1.0000 - val_loss: 0.0596 - val_accuracy: 0.9881\n",
            "Epoch 92/100\n",
            "32/32 [==============================] - 0s 4ms/step - loss: 2.4934e-05 - accuracy: 1.0000 - val_loss: 0.0593 - val_accuracy: 0.9881\n",
            "Epoch 93/100\n",
            "32/32 [==============================] - 0s 5ms/step - loss: 2.4417e-05 - accuracy: 1.0000 - val_loss: 0.0593 - val_accuracy: 0.9881\n",
            "Epoch 94/100\n",
            "32/32 [==============================] - 0s 6ms/step - loss: 2.3656e-05 - accuracy: 1.0000 - val_loss: 0.0587 - val_accuracy: 0.9881\n",
            "Epoch 95/100\n",
            "32/32 [==============================] - 0s 5ms/step - loss: 2.3328e-05 - accuracy: 1.0000 - val_loss: 0.0597 - val_accuracy: 0.9881\n",
            "Epoch 96/100\n",
            "32/32 [==============================] - 0s 6ms/step - loss: 2.2985e-05 - accuracy: 1.0000 - val_loss: 0.0591 - val_accuracy: 0.9881\n",
            "Epoch 97/100\n",
            "32/32 [==============================] - 0s 7ms/step - loss: 2.2447e-05 - accuracy: 1.0000 - val_loss: 0.0601 - val_accuracy: 0.9881\n",
            "Epoch 98/100\n",
            "32/32 [==============================] - 0s 6ms/step - loss: 2.1744e-05 - accuracy: 1.0000 - val_loss: 0.0594 - val_accuracy: 0.9881\n",
            "Epoch 99/100\n",
            "32/32 [==============================] - 0s 5ms/step - loss: 2.1094e-05 - accuracy: 1.0000 - val_loss: 0.0597 - val_accuracy: 0.9881\n",
            "Epoch 100/100\n",
            "32/32 [==============================] - 0s 6ms/step - loss: 2.0816e-05 - accuracy: 1.0000 - val_loss: 0.0599 - val_accuracy: 0.9881\n"
          ]
        },
        {
          "output_type": "execute_result",
          "data": {
            "text/plain": [
              "<keras.src.callbacks.History at 0x7c0c0be2ec50>"
            ]
          },
          "metadata": {},
          "execution_count": 115
        }
      ]
    },
    {
      "cell_type": "code",
      "source": [
        "best_model.summary()"
      ],
      "metadata": {
        "id": "Q5V71e3tRrnk",
        "outputId": "ce42cfe8-115b-4eba-9933-8cec7ebd8475",
        "colab": {
          "base_uri": "https://localhost:8080/"
        }
      },
      "execution_count": 116,
      "outputs": [
        {
          "output_type": "stream",
          "name": "stdout",
          "text": [
            "Model: \"sequential_3\"\n",
            "_________________________________________________________________\n",
            " Layer (type)                Output Shape              Param #   \n",
            "=================================================================\n",
            " flatten_3 (Flatten)         (None, 64)                0         \n",
            "                                                                 \n",
            " dense_9 (Dense)             (None, 384)               24960     \n",
            "                                                                 \n",
            " dropout_6 (Dropout)         (None, 384)               0         \n",
            "                                                                 \n",
            " dense_10 (Dense)            (None, 24)                9240      \n",
            "                                                                 \n",
            " dropout_7 (Dropout)         (None, 24)                0         \n",
            "                                                                 \n",
            " dense_11 (Dense)            (None, 10)                250       \n",
            "                                                                 \n",
            "=================================================================\n",
            "Total params: 34450 (134.57 KB)\n",
            "Trainable params: 34450 (134.57 KB)\n",
            "Non-trainable params: 0 (0.00 Byte)\n",
            "_________________________________________________________________\n"
          ]
        }
      ]
    },
    {
      "cell_type": "code",
      "source": [
        "best_model.evaluate(X_test, y_test)"
      ],
      "metadata": {
        "id": "vQMaoD-dRv3O",
        "outputId": "60ba600c-abfd-4c10-e596-f5696178281c",
        "colab": {
          "base_uri": "https://localhost:8080/"
        }
      },
      "execution_count": 117,
      "outputs": [
        {
          "output_type": "stream",
          "name": "stdout",
          "text": [
            "15/15 [==============================] - 0s 2ms/step - loss: 0.0974 - accuracy: 0.9756\n"
          ]
        },
        {
          "output_type": "execute_result",
          "data": {
            "text/plain": [
              "[0.097435861825943, 0.9755555391311646]"
            ]
          },
          "metadata": {},
          "execution_count": 117
        }
      ]
    },
    {
      "cell_type": "markdown",
      "source": [
        "# Results\n",
        "\n",
        "So we get an accuracy of **97.56%** from the best model trained on all data for 100 epochs"
      ],
      "metadata": {
        "id": "XNka-nhlR4Nt"
      }
    }
  ]
}